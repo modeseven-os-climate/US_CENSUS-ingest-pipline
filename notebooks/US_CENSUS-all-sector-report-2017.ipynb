{
 "cells": [
  {
   "cell_type": "markdown",
   "id": "af2c566c-5267-4c9f-a5b4-92bea95ef340",
   "metadata": {
    "tags": []
   },
   "source": [
    "## Load US CENSUS All-Sector Report data from 2017 datasets (see https://data.census.gov/cedsci/ and set your own parameters) for original sources\n",
    "\n",
    "Copyright (C) 2021 OS-Climate\n",
    "\n",
    "Permission is hereby granted, free of charge, to any person obtaining a copy of this software and associated documentation files (the \"Software\"), to deal in the Software without restriction, including without limitation the rights to use, copy, modify, merge, publish, distribute, sublicense, and/or sell copies of the Software, and to permit persons to whom the Software is furnished to do so, subject to the following conditions:\n",
    "\n",
    "The above copyright notice and this permission notice shall be included in all copies or substantial portions of the Software.\n",
    "\n",
    "THE SOFTWARE IS PROVIDED \"AS IS\", WITHOUT WARRANTY OF ANY KIND, EXPRESS OR IMPLIED, INCLUDING BUT NOT LIMITED TO THE WARRANTIES OF MERCHANTABILITY, FITNESS FOR A PARTICULAR PURPOSE AND NONINFRINGEMENT. IN NO EVENT SHALL THE AUTHORS OR COPYRIGHT HOLDERS BE LIABLE FOR ANY CLAIM, DAMAGES OR OTHER LIABILITY, WHETHER IN AN ACTION OF CONTRACT, TORT OR OTHERWISE, ARISING FROM, OUT OF OR IN CONNECTION WITH THE SOFTWARE OR THE USE OR OTHER DEALINGS IN THE SOFTWARE.\n",
    "\n",
    "### We have local copies rooted in the S3_BUCKET : https://redhat-osc-physical-landing-647521352890.s3.amazonaws.com/US_CENSUS/US_Census-All-Sector-Report-2017/\n",
    "\n",
    "Contributed by Michael Tiemann (Github: MichaelTiemannOSC)"
   ]
  },
  {
   "cell_type": "markdown",
   "id": "11dad87a-f8a8-4305-a672-f68a39f26d59",
   "metadata": {},
   "source": [
    "## Based on OSC Ingest Tutorial by Erik Erlandson (GitHub: erikerlandson)"
   ]
  },
  {
   "cell_type": "markdown",
   "id": "a09158ad-c92a-4207-b0ec-b2b46927f1ce",
   "metadata": {},
   "source": [
    "## python dependencies\n",
    "The following are python packages commonly used for data ingest.\n",
    "If your jupyter environment does not already have these,\n",
    "you can copy and paste these into a live code cell to install them."
   ]
  },
  {
   "cell_type": "markdown",
   "id": "ac566b57-18f1-4f16-bfbd-221371b7967b",
   "metadata": {},
   "source": [
    "Run these in a notebook cell if you need to install onto your nb env\n",
    "```\n",
    "# 'capture' magic prevents long outputs from spamming your notebook\n",
    "%%capture pipoutput\n",
    "\n",
    "# For loading predefined environment variables from files\n",
    "# Typically used to load sensitive access credentials\n",
    "%pip install python-dotenv\n",
    "\n",
    "# Standard python package for interacting with S3 buckets\n",
    "%pip install boto3\n",
    "\n",
    "# Interacting with Trino and using Trino with sqlalchemy\n",
    "%pip install trino sqlalchemy sqlalchemy-trino\n",
    "\n",
    "# Pandas and parquet file i/o\n",
    "%pip install pandas pyarrow fastparquet\n",
    "\n",
    "# OS-Climate utilities to make data ingest easier\n",
    "%pip install osc-ingest-tools\n",
    "```"
   ]
  },
  {
   "cell_type": "markdown",
   "id": "cc144c8b-874f-490b-9c4e-a0b4d14e8e8d",
   "metadata": {},
   "source": [
    "## Environment variables and dot-env\n",
    "\n",
    "The following cell looks for a \"dot-env\" file in some standard locations,\n",
    "and loads its contents into `os.environ`."
   ]
  },
  {
   "cell_type": "code",
   "execution_count": null,
   "id": "17552a2b-0763-480c-ae55-384472dd201b",
   "metadata": {},
   "outputs": [],
   "source": [
    "import os\n",
    "import pathlib\n",
    "from dotenv import load_dotenv\n",
    "\n",
    "# Load some standard environment variables from a dot-env file, if it exists.\n",
    "# If no such file can be found, does not fail, and so allows these environment vars to\n",
    "# be populated in some other way\n",
    "dotenv_dir = os.environ.get('CREDENTIAL_DOTENV_DIR', os.environ.get('PWD', '/opt/app-root/src'))\n",
    "dotenv_path = pathlib.Path(dotenv_dir) / 'credentials.env'\n",
    "if os.path.exists(dotenv_path):\n",
    "    load_dotenv(dotenv_path=dotenv_path,override=True)"
   ]
  },
  {
   "cell_type": "markdown",
   "id": "1cb67b83-bfd0-4725-9d67-8f0a97e413fd",
   "metadata": {},
   "source": [
    "## S3 and boto3"
   ]
  },
  {
   "cell_type": "code",
   "execution_count": null,
   "id": "18d9a1a5-aa7f-4ab7-a566-e013cc4106ed",
   "metadata": {
    "tags": []
   },
   "outputs": [],
   "source": [
    "import boto3\n",
    "s3_src = boto3.resource(\n",
    "    service_name=\"s3\",\n",
    "    endpoint_url=os.environ['S3_LANDING_ENDPOINT'],\n",
    "    aws_access_key_id=os.environ['S3_LANDING_ACCESS_KEY'],\n",
    "    aws_secret_access_key=os.environ['S3_LANDING_SECRET_KEY'],\n",
    ")\n",
    "src_bucket = s3_src.Bucket(os.environ['S3_LANDING_BUCKET'])\n",
    "\n",
    "s3_trino = boto3.resource(\n",
    "    service_name=\"s3\",\n",
    "    endpoint_url=os.environ[\"S3_DEV_ENDPOINT\"],\n",
    "    aws_access_key_id=os.environ[\"S3_DEV_ACCESS_KEY\"],\n",
    "    aws_secret_access_key=os.environ[\"S3_DEV_SECRET_KEY\"],\n",
    ")\n",
    "trino_bucket = s3_trino.Bucket(os.environ[\"S3_DEV_BUCKET\"])"
   ]
  },
  {
   "cell_type": "markdown",
   "id": "960e7e77-1c13-4e33-bb7e-caa80995e7b8",
   "metadata": {},
   "source": [
    "## Connecting to Trino with sqlalchemy"
   ]
  },
  {
   "cell_type": "code",
   "execution_count": null,
   "id": "bb91fe85-2d0d-46e4-b781-adeda4054703",
   "metadata": {},
   "outputs": [],
   "source": [
    "import trino\n",
    "from sqlalchemy.engine import create_engine\n",
    "\n",
    "sqlstring = 'trino://{user}@{host}:{port}/'.format(\n",
    "    user = os.environ['TRINO_USER'],\n",
    "    host = os.environ['TRINO_HOST'],\n",
    "    port = os.environ['TRINO_PORT']\n",
    ")\n",
    "sqlargs = {\n",
    "    'auth': trino.auth.JWTAuthentication(os.environ['TRINO_PASSWD']),\n",
    "    'http_scheme': 'https',\n",
    "    'catalog': 'osc_datacommons_dev',\n",
    "}\n",
    "engine = create_engine(sqlstring, connect_args = sqlargs)\n",
    "connection = engine.connect()"
   ]
  },
  {
   "cell_type": "markdown",
   "id": "5d265991-d368-4cda-8d5a-7a4fcef59fb0",
   "metadata": {},
   "source": [
    "## Load Data Dictionary for US Census 2017 All-sector report"
   ]
  },
  {
   "cell_type": "code",
   "execution_count": null,
   "id": "5f5ee783-c8a4-433d-8601-121bbe58c593",
   "metadata": {},
   "outputs": [],
   "source": [
    "import pandas as pd\n",
    "\n",
    "data_dictionary = 'ECNCOMP2017.EC1700COMP_metadata_2021-11-21T141436.csv'\n",
    "bObj = src_bucket.Object(f'US_CENSUS/US_Census-All-Sector-Report-2017/{data_dictionary}')\n",
    "bObj.download_file(f'/tmp/ingest-{data_dictionary}')\n",
    "dd_df = pd.read_csv(f'/tmp/ingest-{data_dictionary}', sep=',', header=None, engine='c')\n",
    "dd_df.columns = ['name', 'desc'] \n",
    "\n",
    "os.unlink(f'/tmp/ingest-{data_dictionary}')\n",
    "dd_df"
   ]
  },
  {
   "cell_type": "markdown",
   "id": "5e800f18-678f-4921-9ac1-7e1e38d6d66d",
   "metadata": {},
   "source": [
    "The US Census maintains a list of SIC codes, but it's very empty compared with the SEC version.  It does give 2-digit code definitions, however.  But they are not very complete, either."
   ]
  },
  {
   "cell_type": "raw",
   "id": "fd4588ed-eea9-41ce-b23f-180737b77a52",
   "metadata": {},
   "source": [
    "sic_codes = 'sic88_97.txt'\n",
    "bObj = src_bucket.Object(f'US_CENSUS/US_Census-All-Sector-Report-2017/{sic_codes}')\n",
    "bObj.download_file(f'/tmp/ingest-{sic_codes}')\n",
    "sic4_df = pd.read_csv(f'/tmp/ingest-{sic_codes}', sep='  ', header=None, names=['sic', 'desc'], engine='python')\n",
    "os.unlink(f'/tmp/ingest-{sic_codes}')\n",
    "\n",
    "sic4_df.drop(sic4_df.index[0], inplace=True)\n",
    "sic2_df = sic4_df.loc[sic4_df.sic.str.contains(r'^\\d\\d--$')]\n",
    "sic4_df = sic4_df.loc[sic4_df.sic.str.contains(r'^\\d{4}$')]\n",
    "sic4_df.sic = sic4_df.sic.astype('int32')\n",
    "sic2_df.sic = sic2_df.sic.str[0:2].astype('int32')\n",
    "sic4_df.reset_index (drop=True, inplace=True)\n",
    "sic2_df.reset_index (drop=True, inplace=True)\n",
    "\n",
    "sic4_df.info(verbose=True)\n",
    "sic2_df.info(verbose=True)"
   ]
  },
  {
   "cell_type": "code",
   "execution_count": null,
   "id": "2f51196e-5fc9-448a-a68f-ee2b400ec08d",
   "metadata": {},
   "outputs": [],
   "source": [
    "survey_report = 'ECNCOMP2017.EC1700COMP_data_with_overlays_2021-11-21T141436.csv'\n",
    "bObj = src_bucket.Object(f'US_CENSUS/US_Census-All-Sector-Report-2017/{survey_report}')\n",
    "bObj.download_file(f'/tmp/ingest-{survey_report}')\n",
    "df = pd.read_csv(f'/tmp/ingest-{survey_report}', sep=',', header=0, engine='c')\n",
    "os.unlink(f'/tmp/ingest-{survey_report}')\n",
    "\n",
    "df = df.drop(df.index[0])\n",
    "df.reset_index (drop=True, inplace=True)\n",
    "df"
   ]
  },
  {
   "cell_type": "markdown",
   "id": "874f5cce-e04f-4ef1-ae3e-ed40bdfcbe77",
   "metadata": {},
   "source": [
    "## `osc-ingest-tools`"
   ]
  },
  {
   "cell_type": "markdown",
   "id": "350198fa-f1f7-4049-be7e-1fd08c2fd980",
   "metadata": {},
   "source": [
    "## Enforcing valid SQL column names"
   ]
  },
  {
   "cell_type": "code",
   "execution_count": null,
   "id": "6403e86a-931c-43f1-bf75-2ef618648e93",
   "metadata": {},
   "outputs": [],
   "source": [
    "import osc_ingest_trino as osc\n",
    "from io import BytesIO\n",
    "\n",
    "osc.enforce_sql_column_names(df, inplace=True)\n",
    "df"
   ]
  },
  {
   "cell_type": "markdown",
   "id": "3a16330f-3f9d-4bc8-908f-4083fd5656bf",
   "metadata": {},
   "source": [
    "## Trino catalog, schema, table"
   ]
  },
  {
   "cell_type": "code",
   "execution_count": null,
   "id": "a0ff76ad-55d4-490d-93ed-1f1b64713b0a",
   "metadata": {},
   "outputs": [],
   "source": [
    "ingest_catalog = 'osc_datacommons_dev'\n",
    "ingest_schema = 'us_census'\n",
    "ingest_table = 'all_sector_survey_2017'\n",
    "dd_table = 'data_dictionary'\n",
    "sic4_table = 'sic4'\n",
    "# sic2_table = 'sic2'\n",
    "sic_ranges_table = 'sic_ranges'"
   ]
  },
  {
   "cell_type": "markdown",
   "id": "f3c5257d-ea25-47c0-a076-651e3d722f4c",
   "metadata": {},
   "source": [
    "## Staging parquet files for SURVEY REPORT trino table"
   ]
  },
  {
   "cell_type": "code",
   "execution_count": null,
   "id": "adc211fd-3dcb-407f-b173-3187983d495a",
   "metadata": {},
   "outputs": [],
   "source": [
    "# DF was loaded from the SURVEY_REPORT file\n",
    "\n",
    "buf = BytesIO()\n",
    "df.to_parquet(path=buf, index=False)\n",
    "buf.seek(0)\n",
    "\n",
    "trino_bucket.upload_fileobj(Fileobj=buf,\n",
    "                            Key=f'trino/{ingest_schema}/{ingest_table}/data.parquet')"
   ]
  },
  {
   "cell_type": "markdown",
   "id": "dba4077a-6767-4727-868c-854e853adb3b",
   "metadata": {},
   "source": [
    "## Declaring a trino table on top of a raw parquet file"
   ]
  },
  {
   "cell_type": "code",
   "execution_count": null,
   "id": "0677a7ea-ef11-4962-89a6-9fe0a672d50f",
   "metadata": {},
   "outputs": [],
   "source": [
    "qres = engine.execute(f'create schema if not exists {ingest_schema}')\n",
    "print(qres.fetchall())\n",
    "\n",
    "qres = engine.execute(f'drop table {ingest_schema}.{ingest_table}')\n",
    "\n",
    "columnschema = osc.create_table_schema_pairs(df)\n",
    "\n",
    "tabledef = f\"\"\"\n",
    "create table {ingest_schema}.{ingest_table}(\n",
    "{columnschema}\n",
    ") with (\n",
    "    format = 'parquet',\n",
    "    external_location = 's3a://{trino_bucket.name}/trino/{ingest_schema}/{ingest_table}/'\n",
    ")\n",
    "\"\"\"\n",
    "print(tabledef)\n",
    "qres = engine.execute(tabledef)\n",
    "print(qres.fetchall())"
   ]
  },
  {
   "cell_type": "markdown",
   "id": "2dc9939e-cc79-4b44-b123-99af98e39c1c",
   "metadata": {},
   "source": [
    "Now do the same for the data dictionary in DD_DF"
   ]
  },
  {
   "cell_type": "code",
   "execution_count": null,
   "id": "ea47541e-d66c-4831-aba6-87fcef1771fd",
   "metadata": {},
   "outputs": [],
   "source": [
    "buf = BytesIO()\n",
    "dd_df.to_parquet(path=buf, index=False)\n",
    "buf.seek(0)\n",
    "\n",
    "trino_bucket.upload_fileobj(Fileobj=buf,\n",
    "                            Key=f'trino/{ingest_schema}/{dd_table}/data.parquet')"
   ]
  },
  {
   "cell_type": "code",
   "execution_count": null,
   "id": "9cef661b-58b6-4e8a-a3c7-818d55c90dc0",
   "metadata": {},
   "outputs": [],
   "source": [
    "qres = engine.execute(f'drop table {ingest_schema}.{dd_table}')\n",
    "\n",
    "columnschema = osc.create_table_schema_pairs(dd_df)\n",
    "\n",
    "tabledef = f\"\"\"\n",
    "create table if not exists {ingest_schema}.{dd_table}(\n",
    "{columnschema}\n",
    ") with (\n",
    "    format = 'parquet',\n",
    "    external_location = 's3a://{trino_bucket.name}/trino/{ingest_schema}/{dd_table}/'\n",
    ")\n",
    "\"\"\"\n",
    "print(tabledef)\n",
    "qres = engine.execute(tabledef)\n",
    "print(qres.fetchall())"
   ]
  },
  {
   "cell_type": "markdown",
   "id": "b66e4e7b-9023-426d-ac0d-9507ecc604d9",
   "metadata": {},
   "source": [
    "Load SIC4 codes from XML files (somewhat hidden) at SEC.GOV (https://www.sec.gov/xbrl/site/sic/2020/sic-lab-2020-01-31.xml)"
   ]
  },
  {
   "cell_type": "code",
   "execution_count": null,
   "id": "3949d777-33ca-4dc9-a805-a9d1b17a94fe",
   "metadata": {},
   "outputs": [],
   "source": [
    "# %pip install xmltodict\n",
    "\n",
    "import xmltodict\n",
    "\n",
    "with open('sic-lab-2020-01-31.xml') as fd:\n",
    "    doc = xmltodict.parse(fd.read())\n",
    "\n",
    "sic4_xml = [x['#text'] for x in doc['link:linkbase']['link:labelLink']['link:label']]\n",
    "title = sic4_xml[0]\n",
    "df = pd.DataFrame(data=sic4_xml[1:], columns=['row'])\n",
    "range_mask = df.row.str.contains(' to ')\n",
    "df_ranges = df.loc[range_mask]\n",
    "df_defs = df.loc[~range_mask]\n",
    "df_ranges.info(verbose=True)\n",
    "df_defs.info(verbose=True)"
   ]
  },
  {
   "cell_type": "code",
   "execution_count": null,
   "id": "e0eeed6f-7987-47eb-b4ad-11f31e83c8f4",
   "metadata": {},
   "outputs": [],
   "source": [
    "def sic_range_tuple(x):\n",
    "    l = x.row.split(' ', 3)\n",
    "    r = l[3].rsplit(' ',1)\n",
    "    return '-'.join([l[0], l[2]]), l[0], l[2], r[0]\n",
    "\n",
    "df_ranges[['range', 'l', 'r', 'range_desc']] = df_ranges.apply(sic_range_tuple, axis=1, result_type='expand')\n",
    "df_ranges.l = df_ranges.l.astype('int32')\n",
    "df_ranges.r = df_ranges.r.astype('int32')\n",
    "df_ranges.drop(columns=['row'],inplace=True)\n",
    "df_ranges.reset_index (drop=True, inplace=True)\n",
    "df_ranges"
   ]
  },
  {
   "cell_type": "code",
   "execution_count": null,
   "id": "b32bb1d5-c17b-4153-8549-97d107bddd51",
   "metadata": {},
   "outputs": [],
   "source": [
    "def sic_tuple(x):\n",
    "    l = x.row.split(' ', 1)\n",
    "    r = l[1].rsplit(' ',1)\n",
    "    return l[0], r[0]\n",
    "\n",
    "df_defs[['sic', 'desc']] = df_defs.apply(sic_tuple, axis=1, result_type='expand')\n",
    "df_defs.sic = df_defs.sic.astype('int32')\n",
    "df_defs.drop(columns=['row'],inplace=True)\n",
    "df_defs.reset_index (drop=True, inplace=True)\n",
    "df_defs"
   ]
  },
  {
   "cell_type": "code",
   "execution_count": null,
   "id": "26dd2180-c834-4cbf-9456-e042e0ad38b6",
   "metadata": {},
   "outputs": [],
   "source": [
    "buf = BytesIO()\n",
    "df_defs.to_parquet(path=buf, index=False)\n",
    "buf.seek(0)\n",
    "\n",
    "trino_bucket.upload_fileobj(Fileobj=buf,\n",
    "                            Key=f'trino/{ingest_schema}/{sic4_table}/data.parquet')"
   ]
  },
  {
   "cell_type": "code",
   "execution_count": null,
   "id": "e7e99322-8532-4980-9d7a-dc99d8a1b0ac",
   "metadata": {},
   "outputs": [],
   "source": [
    "qres = engine.execute(f'drop table {ingest_schema}.{sic4_table}')\n",
    "\n",
    "columnschema = osc.create_table_schema_pairs(df_defs)\n",
    "\n",
    "tabledef = f\"\"\"\n",
    "create table if not exists {ingest_schema}.{sic4_table}(\n",
    "{columnschema}\n",
    ") with (\n",
    "    format = 'parquet',\n",
    "    external_location = 's3a://{trino_bucket.name}/trino/{ingest_schema}/{sic4_table}/'\n",
    ")\n",
    "\"\"\"\n",
    "print(tabledef)\n",
    "qres = engine.execute(tabledef)\n",
    "print(qres.fetchall())"
   ]
  },
  {
   "cell_type": "code",
   "execution_count": null,
   "id": "d048524a-124a-4c6d-8769-73130a2008b1",
   "metadata": {},
   "outputs": [],
   "source": [
    "buf = BytesIO()\n",
    "df_ranges.to_parquet(path=buf, index=False)\n",
    "buf.seek(0)\n",
    "\n",
    "trino_bucket.upload_fileobj(Fileobj=buf,\n",
    "                            Key=f'trino/{ingest_schema}/{sic_ranges_table}/data.parquet')"
   ]
  },
  {
   "cell_type": "code",
   "execution_count": null,
   "id": "0ac7250c-4daf-48ad-b581-8a1216589f90",
   "metadata": {},
   "outputs": [],
   "source": [
    "qres = engine.execute(f'drop table {ingest_schema}.{sic_ranges_table}')\n",
    "\n",
    "columnschema = osc.create_table_schema_pairs(df_ranges)\n",
    "\n",
    "tabledef = f\"\"\"\n",
    "create table if not exists {ingest_schema}.{sic_ranges_table}(\n",
    "{columnschema}\n",
    ") with (\n",
    "    format = 'parquet',\n",
    "    external_location = 's3a://{trino_bucket.name}/trino/{ingest_schema}/{sic_ranges_table}/'\n",
    ")\n",
    "\"\"\"\n",
    "print(tabledef)\n",
    "qres = engine.execute(tabledef)\n",
    "print(qres.fetchall())"
   ]
  },
  {
   "cell_type": "markdown",
   "id": "442f7396-3957-4acb-bb86-9fa8104b635f",
   "metadata": {},
   "source": [
    "## SQL queries on our new table"
   ]
  },
  {
   "cell_type": "code",
   "execution_count": null,
   "id": "d1b7cbd9-3dbd-4220-b2d8-a9a11a21c5dd",
   "metadata": {},
   "outputs": [],
   "source": [
    "sql = f\"\"\"\n",
    "select * from {ingest_schema}.{ingest_table}\n",
    "\"\"\"\n",
    "pd.read_sql(sql, engine).convert_dtypes()"
   ]
  },
  {
   "cell_type": "markdown",
   "id": "958b14c7-967c-4a07-8963-42d05ff87c79",
   "metadata": {},
   "source": [
    "We don't use the obsolete/limited SIC2 and SIC4 data from US Census"
   ]
  },
  {
   "cell_type": "raw",
   "id": "70b96c6c-8aab-4dfe-9953-56942e9bb1e0",
   "metadata": {},
   "source": [
    "buf = BytesIO()\n",
    "sic2_df.to_parquet(path=buf, index=False)\n",
    "buf.seek(0)\n",
    "\n",
    "trino_bucket.upload_fileobj(Fileobj=buf,\n",
    "                            Key=f'trino/{ingest_schema}/{sic2_table}/data.parquet')"
   ]
  },
  {
   "cell_type": "raw",
   "id": "a918d1d9-18be-42f6-b9ae-32ba64291194",
   "metadata": {},
   "source": [
    "columnschema = osc.create_table_schema_pairs(sic2_df)\n",
    "\n",
    "tabledef = f\"\"\"\n",
    "create table if not exists {ingest_schema}.{sic2_table}(\n",
    "{columnschema}\n",
    ") with (\n",
    "    format = 'parquet',\n",
    "    external_location = 's3a://{trino_bucket.name}/trino/{ingest_schema}/{sic2_table}/'\n",
    ")\n",
    "\"\"\"\n",
    "print(tabledef)\n",
    "qres = engine.execute(tabledef)\n",
    "print(qres.fetchall())"
   ]
  },
  {
   "cell_type": "raw",
   "id": "8966bc5e-7ecf-4af1-83e0-fc7645cf0ac8",
   "metadata": {},
   "source": [
    "buf = BytesIO()\n",
    "sic4_df.to_parquet(path=buf, index=False)\n",
    "buf.seek(0)\n",
    "\n",
    "trino_bucket.upload_fileobj(Fileobj=buf,\n",
    "                            Key=f'trino/{ingest_schema}/{sic4_table}/data.parquet')"
   ]
  },
  {
   "cell_type": "raw",
   "id": "8f27efdf-5dbc-4932-b1be-0c2fac5df4b9",
   "metadata": {},
   "source": [
    "columnschema = osc.create_table_schema_pairs(sic4_df)\n",
    "\n",
    "tabledef = f\"\"\"\n",
    "create table if not exists {ingest_schema}.{sic4_table}(\n",
    "{columnschema}\n",
    ") with (\n",
    "    format = 'parquet',\n",
    "    external_location = 's3a://{trino_bucket.name}/trino/{ingest_schema}/{sic4_table}/'\n",
    ")\n",
    "\"\"\"\n",
    "print(tabledef)\n",
    "qres = engine.execute(tabledef)\n",
    "print(qres.fetchall())"
   ]
  }
 ],
 "metadata": {
  "kernelspec": {
   "display_name": "Python 3",
   "language": "python",
   "name": "python3"
  },
  "language_info": {
   "codemirror_mode": {
    "name": "ipython",
    "version": 3
   },
   "file_extension": ".py",
   "mimetype": "text/x-python",
   "name": "python",
   "nbconvert_exporter": "python",
   "pygments_lexer": "ipython3",
   "version": "3.8.3"
  }
 },
 "nbformat": 4,
 "nbformat_minor": 5
}
